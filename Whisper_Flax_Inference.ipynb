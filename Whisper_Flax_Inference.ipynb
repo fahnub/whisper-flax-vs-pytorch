{
  "nbformat": 4,
  "nbformat_minor": 0,
  "metadata": {
    "colab": {
      "provenance": []
    },
    "kernelspec": {
      "name": "python3",
      "display_name": "Python 3"
    },
    "language_info": {
      "name": "python"
    },
    "accelerator": "GPU",
    "gpuClass": "standard"
  },
  "cells": [
    {
      "cell_type": "code",
      "execution_count": null,
      "metadata": {
        "id": "3O5B69mtVDR6"
      },
      "outputs": [],
      "source": [
        "!pip install --quiet flax datasets>=2.6.1 git+https://github.com/huggingface/transformers"
      ]
    },
    {
      "cell_type": "code",
      "source": [
        "import torch\n",
        "from transformers import AutoProcessor, WhisperForConditionalGeneration\n",
        "from datasets import load_dataset"
      ],
      "metadata": {
        "id": "4dulgp0yXJSC"
      },
      "execution_count": null,
      "outputs": []
    },
    {
      "cell_type": "code",
      "source": [
        "processor = AutoProcessor.from_pretrained(\"openai/whisper-tiny.en\")\n",
        "model = WhisperForConditionalGeneration.from_pretrained(\"openai/whisper-tiny.en\")"
      ],
      "metadata": {
        "id": "SHVquGTSW1Pl"
      },
      "execution_count": null,
      "outputs": []
    },
    {
      "cell_type": "code",
      "source": [
        "ds = load_dataset(\"hf-internal-testing/librispeech_asr_dummy\", \"clean\", split=\"validation\")\n",
        "ds"
      ],
      "metadata": {
        "id": "MrdV7Lz-W1Mx"
      },
      "execution_count": null,
      "outputs": []
    },
    {
      "cell_type": "code",
      "source": [
        "ds[0]['audio']['array'].shape\n",
        "# ds[0]['audio'][\"array\"]"
      ],
      "metadata": {
        "id": "z42bobIab7ra"
      },
      "execution_count": null,
      "outputs": []
    },
    {
      "cell_type": "code",
      "source": [
        "inputs = processor(ds[10][\"audio\"][\"array\"], return_tensors=\"pt\")\n",
        "inputs"
      ],
      "metadata": {
        "id": "6a4GpzjSW1Kp"
      },
      "execution_count": null,
      "outputs": []
    },
    {
      "cell_type": "code",
      "source": [
        "input_features = inputs.input_features\n",
        "type(input_features)\n",
        "input_features.size()"
      ],
      "metadata": {
        "id": "zHiw367sW1H4"
      },
      "execution_count": null,
      "outputs": []
    },
    {
      "cell_type": "code",
      "source": [
        "generated_ids = model.generate(inputs=input_features)\n",
        "generated_ids"
      ],
      "metadata": {
        "id": "6FhZi15UW1E4"
      },
      "execution_count": null,
      "outputs": []
    },
    {
      "cell_type": "code",
      "source": [
        "transcription = processor.batch_decode(generated_ids, skip_special_tokens=True)[0]\n",
        "transcription"
      ],
      "metadata": {
        "id": "wek1SaujW1CC"
      },
      "execution_count": null,
      "outputs": []
    }
  ]
}