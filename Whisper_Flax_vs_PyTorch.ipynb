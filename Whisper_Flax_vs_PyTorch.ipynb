{
  "cells": [
    {
      "cell_type": "code",
      "execution_count": null,
      "id": "c0b85385-af4a-411f-8139-28865d92dff5",
      "metadata": {
        "id": "c0b85385-af4a-411f-8139-28865d92dff5"
      },
      "outputs": [],
      "source": [
        "processor = WhisperProcessor.from_pretrained(model_id)\n",
        "\n",
        "def preprocess(batch):\n",
        "    batch[\"input_features\"] = processor(batch[\"audio\"][\"array\"], sampling_rate=16000, return_tensors=\"np\").input_features[0]\n",
        "    return batch\n",
        "\n",
        "dataset_processed = librispeech.map(preprocess, remove_columns=librispeech.column_names)"
      ]
    },
    {
      "cell_type": "code",
      "execution_count": null,
      "id": "4f0c01e5-eded-4dd4-8f12-ceb11937dd8b",
      "metadata": {
        "id": "4f0c01e5-eded-4dd4-8f12-ceb11937dd8b"
      },
      "outputs": [],
      "source": [
        "model = WhisperForConditionalGeneration.from_pretrained(model_id)\n",
        "model.to(\"cuda\")\n",
        "model.eval()\n",
        "model.half();"
      ]
    },
    {
      "cell_type": "code",
      "execution_count": null,
      "id": "51b2d899-dfc4-4e5d-9861-ff878995a440",
      "metadata": {
        "id": "51b2d899-dfc4-4e5d-9861-ff878995a440"
      },
      "outputs": [],
      "source": [
        "dataloader = DataLoader(dataset_processed.with_format(\"torch\"), batch_size=1)"
      ]
    },
    {
      "cell_type": "code",
      "execution_count": null,
      "id": "71ecb7ba-9de8-455c-b9b2-94ac95ca16fe",
      "metadata": {
        "id": "71ecb7ba-9de8-455c-b9b2-94ac95ca16fe"
      },
      "outputs": [],
      "source": [
        "for batch in tqdm(dataloader):\n",
        "    input_features = batch[\"input_features\"].to(\"cuda\").half()\n",
        "    pred_ids = model.generate(input_features, max_length=128)"
      ]
    },
    {
      "cell_type": "code",
      "source": [],
      "metadata": {
        "id": "VFU_eqqIDiLY"
      },
      "id": "VFU_eqqIDiLY",
      "execution_count": null,
      "outputs": []
    },
    {
      "cell_type": "code",
      "execution_count": null,
      "id": "00852ece-6251-4c6f-bbc2-b74ecf5744e1",
      "metadata": {
        "id": "00852ece-6251-4c6f-bbc2-b74ecf5744e1"
      },
      "outputs": [],
      "source": [
        "model = FlaxWhisperForConditionalGeneration.from_pretrained(model_id, dtype=jnp.float16, from_pt=True)"
      ]
    },
    {
      "cell_type": "code",
      "execution_count": null,
      "id": "8383de49-b11f-4e78-99f0-f13c3185f33c",
      "metadata": {
        "id": "8383de49-b11f-4e78-99f0-f13c3185f33c"
      },
      "outputs": [],
      "source": [
        "dataloader = DataLoader(dataset_processed.with_format(\"numpy\"), batch_size=1)"
      ]
    },
    {
      "cell_type": "code",
      "execution_count": null,
      "id": "7d40adaf-7a6f-472f-8cfb-37ae3c8fc7fb",
      "metadata": {
        "id": "7d40adaf-7a6f-472f-8cfb-37ae3c8fc7fb"
      },
      "outputs": [],
      "source": [
        "jit_generate = jax.jit(model.generate, static_argnames=[\"max_length\"])"
      ]
    },
    {
      "cell_type": "code",
      "execution_count": null,
      "id": "2a92626a-c090-400e-bec0-41895f8446a0",
      "metadata": {
        "id": "2a92626a-c090-400e-bec0-41895f8446a0"
      },
      "outputs": [],
      "source": [
        "batch = next(iter(dataloader))\n",
        "input_features = jnp.array(batch[\"input_features\"], dtype=jnp.float16)\n",
        "pred_ids = jit_generate(input_features, max_length=128)"
      ]
    },
    {
      "cell_type": "code",
      "execution_count": null,
      "id": "883598af-9fc3-4cc7-b43a-da9aff6ebc60",
      "metadata": {
        "id": "883598af-9fc3-4cc7-b43a-da9aff6ebc60"
      },
      "outputs": [],
      "source": [
        "for batch in tqdm(dataloader):\n",
        "    input_features = jnp.array(batch[\"input_features\"], dtype=jnp.float16)\n",
        "    pred_ids = jit_generate(input_features, max_length=128)"
      ]
    }
  ],
  "metadata": {
    "kernelspec": {
      "display_name": "Python 3 (ipykernel)",
      "language": "python",
      "name": "python3"
    },
    "language_info": {
      "codemirror_mode": {
        "name": "ipython",
        "version": 3
      },
      "file_extension": ".py",
      "mimetype": "text/x-python",
      "name": "python",
      "nbconvert_exporter": "python",
      "pygments_lexer": "ipython3",
      "version": "3.9.16"
    },
    "colab": {
      "provenance": []
    },
    "accelerator": "GPU",
    "gpuClass": "standard"
  },
  "nbformat": 4,
  "nbformat_minor": 5
}